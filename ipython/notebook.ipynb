{
 "worksheets": [
  {
   "cells": [
    {
     "cell_type": "heading",
     "metadata": {},
     "level": 1,
     "source": [
      "Training K-means model"
     ]
    },
    {
     "cell_type": "code",
     "metadata": {},
     "outputs": [],
     "input": [
      "#Train K-means clustering on training images\n",
      "%matplotlib inline\n",
      "import pandas as pd\n",
      "import pickle\n",
      "import numpy as np\n",
      "from sklearn.cluster import KMeans\n",
      "import matplotlib.pyplot as plt\n",
      "import housemapper\n",
      "\n",
      "from pylab import *"
     ],
     "language": "python",
     "prompt_number": 1
    },
    {
     "cell_type": "code",
     "metadata": {},
     "outputs": [],
     "input": [
      "#Load all roof regression models to extract image features\n",
      "def load_model(model_file):\n",
      "    file_model = open(model_file, \"r\")\n",
      "    saved_model = pickle.load(file_model)\n",
      "    file_model.close()\n",
      "    return saved_model\n",
      "#Extract image color histograms\n",
      "def get_features(model):\n",
      "    arr = np.array(model.features)\n",
      "    arr = arr[:, 28:52]\n",
      "    return arr"
     ],
     "language": "python",
     "prompt_number": 2
    },
    {
     "cell_type": "code",
     "metadata": {},
     "outputs": [],
     "input": [
      "dry = get_features(load_model('../models.bk/iron_count_model_dry.pkl'))\n",
      "wet = get_features(load_model('../models.bk/iron_count_model_wet.pkl'))\n",
      "hazy = get_features(load_model('../models.bk/iron_count_model_hazy.pkl'))\n",
      "features = np.concatenate([dry, wet, hazy])"
     ],
     "language": "python",
     "prompt_number": 3
    },
    {
     "cell_type": "code",
     "metadata": {},
     "outputs": [
      {
       "output_type": "pyout",
       "prompt_number": 56,
       "text": [
        "[<matplotlib.lines.Line2D at 0x1107d2410>]"
       ],
       "metadata": {}
      },
      {
       "output_type": "display_data",
       "png": "[encoded data removed]",
       "text": [
        "<matplotlib.figure.Figure at 0x1112e9d50>"
       ],
       "metadata": {}
      }
     ],
     "input": [
      "inertias = list()\n",
      "rang = range(3, 100)\n",
      "for i in rang:\n",
      "    kmeans = KMeans(n_clusters=i)\n",
      "    kmeans.fit(features)\n",
      "    inertias.append(kmeans.inertia_)\n",
      "plot(rang, inertias)"
     ],
     "language": "python",
     "prompt_number": 56
    },
    {
     "cell_type": "code",
     "metadata": {},
     "outputs": [
      {
       "output_type": "pyout",
       "prompt_number": 4,
       "text": [
        "KMeans(copy_x=True, init='k-means++', max_iter=300, n_clusters=4, n_init=10,\n",
        "    n_jobs=1, precompute_distances=True, random_state=None, tol=0.0001,\n",
        "    verbose=0)"
       ],
       "metadata": {}
      }
     ],
     "input": [
      "#Based on previous resutls we choose 8 clusters (curve elbow)\n",
      "kmeans = KMeans(n_clusters=4)\n",
      "kmeans.fit(features)"
     ],
     "language": "python",
     "prompt_number": 4
    },
    {
     "cell_type": "code",
     "metadata": {},
     "outputs": [],
     "input": [
      "distan = kmeans.transform(features)"
     ],
     "language": "python",
     "prompt_number": 5
    },
    {
     "cell_type": "code",
     "metadata": {},
     "outputs": [
      {
       "output_type": "pyout",
       "prompt_number": 6,
       "text": [
        "<matplotlib.axes._subplots.AxesSubplot at 0x118418850>"
       ],
       "metadata": {}
      },
      {
       "output_type": "display_data",
       "png": "[encoded data removed]",
       "text": [
        "<matplotlib.figure.Figure at 0x110e70c90>"
       ],
       "metadata": {}
      }
     ],
     "input": [
      "pd.Series(distan.min(axis=1)).hist()"
     ],
     "language": "python",
     "prompt_number": 6
    },
    {
     "cell_type": "code",
     "metadata": {},
     "outputs": [],
     "input": [
      "#Save clustering model\n",
      "file_save = open('../models/cluster_model.pkl', \"w\")\n",
      "pickle.dump(kmeans, file_save)\n",
      "file_save.close()"
     ],
     "language": "python",
     "prompt_number": 8
    },
    {
     "cell_type": "heading",
     "metadata": {},
     "level": 1,
     "source": [
      "Results for K=6 clustering"
     ]
    },
    {
     "cell_type": "code",
     "metadata": {},
     "outputs": [
      {
       "output_type": "pyout",
       "prompt_number": 79,
       "text": [
        "0.89576487088756229"
       ],
       "metadata": {}
      }
     ],
     "input": [
      "#Scores of new clustering for roof classification\n",
      "scores = np.array([0.906356403228, 0.895887746596, 0.9114, 0.891550626079, 0.884112926265])\n",
      "sizes = np.array([1985,604,1241,1927,2779])\n",
      "sum(scores * sizes)/sum(sizes)"
     ],
     "language": "python",
     "prompt_number": 79
    },
    {
     "cell_type": "code",
     "metadata": {},
     "outputs": [
      {
       "output_type": "pyout",
       "prompt_number": 80,
       "text": [
        "2.1001141312866212"
       ],
       "metadata": {}
      }
     ],
     "input": [
      "#Scores of new clustering for roof count\n",
      "scores = np.array([2.45418726527,1.99401007847,2.03132730133,0.0,2.3108507792,1.90081699868])\n",
      "sizes = np.array([305,137,250,17,270,489])\n",
      "sum(scores * sizes)/sum(sizes)"
     ],
     "language": "python",
     "prompt_number": 80
    },
    {
     "cell_type": "code",
     "metadata": {},
     "outputs": [
      {
       "output_type": "pyout",
       "prompt_number": 81,
       "text": [
        "0.94197652154973366"
       ],
       "metadata": {}
      }
     ],
     "input": [
      "#Scores of new clustering for iron roof count\n",
      "scores = np.array([1.03506882391, 0.765912358638, 0.884202094302,0.0 ,0.964926925423,0.982852261287])\n",
      "sizes = np.array([305,137,250,17,270,489])\n",
      "sum(scores * sizes)/sum(sizes)"
     ],
     "language": "python",
     "prompt_number": 81
    },
    {
     "cell_type": "code",
     "metadata": {},
     "outputs": [
      {
       "output_type": "pyout",
       "prompt_number": 82,
       "text": [
        "0.16412166364685013"
       ],
       "metadata": {}
      }
     ],
     "input": [
      "#Scores of new clustering for iron ratio\n",
      "scores = np.array([0.141733490075,0.184211691579,0.195536934054,0.0,0.126172556272,0.183055342142])\n",
      "sizes = np.array([305,137,250,17,270,489])\n",
      "sum(scores * sizes)/sum(sizes)"
     ],
     "language": "python",
     "prompt_number": 82
    },
    {
     "cell_type": "heading",
     "metadata": {},
     "level": 1,
     "source": [
      "Results for 4 clusters"
     ]
    },
    {
     "cell_type": "code",
     "metadata": {},
     "outputs": [
      {
       "output_type": "pyout",
       "prompt_number": 10,
       "text": [
        "0.89163294566360041"
       ],
       "metadata": {}
      }
     ],
     "input": [
      "#Scores of new clustering for roof classification\n",
      "scores = np.array([0.878535559931,0.903496291631,0.900766309277,0.891401488873])\n",
      "sizes = np.array([2890,1895,1734,2017])\n",
      "sum(scores * sizes)/sum(sizes)"
     ],
     "language": "python",
     "prompt_number": 10
    },
    {
     "cell_type": "code",
     "metadata": {},
     "outputs": [
      {
       "output_type": "pyout",
       "prompt_number": 17,
       "text": [
        "0.92966690535549867"
       ],
       "metadata": {}
      }
     ],
     "input": [
      "#Scores of new clustering for iron roof count\n",
      "scores = np.array([0.925725773478,1.01257343829,0.857504981109,0.94286042768])\n",
      "sizes = np.array([535,292,358,283])\n",
      "sum(scores * sizes)/sum(sizes)"
     ],
     "language": "python",
     "prompt_number": 17
    },
    {
     "cell_type": "code",
     "metadata": {},
     "outputs": [
      {
       "output_type": "pyout",
       "prompt_number": 18,
       "text": [
        "2.1240144468101088"
       ],
       "metadata": {}
      }
     ],
     "input": [
      "scores = np.array([1.84372292972,2.40037424469,2.06054598982,2.449034264])\n",
      "sizes = np.array([535,292,358,283])\n",
      "sum(scores * sizes)/sum(sizes)"
     ],
     "language": "python",
     "prompt_number": 18
    },
    {
     "cell_type": "code",
     "metadata": {},
     "outputs": [
      {
       "output_type": "pyout",
       "prompt_number": 19,
       "text": [
        "0.16209007892161034"
       ],
       "metadata": {}
      }
     ],
     "input": [
      "scores = np.array([0.176977179075,0.143591825533,0.183700986062,0.125694978749])\n",
      "sizes = np.array([535,292,358,283])\n",
      "sum(scores * sizes)/sum(sizes)"
     ],
     "language": "python",
     "prompt_number": 19
    },
    {
     "cell_type": "code",
     "metadata": {},
     "outputs": [],
     "input": [
      ""
     ],
     "language": "python"
    }
   ]
  }
 ],
 "cells": [],
 "metadata": {
  "name": "",
  "signature": "sha256:2fce4d9d5f33a62004a3b71a6a66581d49dac928a34b409db23af5a7e3613518"
 },
 "nbformat": 3,
 "nbformat_minor": 0
}